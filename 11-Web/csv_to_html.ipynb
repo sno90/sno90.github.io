{
 "cells": [
  {
   "cell_type": "code",
   "execution_count": 8,
   "metadata": {},
   "outputs": [],
   "source": [
    "import pandas as pd"
   ]
  },
  {
   "cell_type": "code",
   "execution_count": 9,
   "metadata": {},
   "outputs": [
    {
     "data": {
      "text/html": [
       "<div>\n",
       "<style scoped>\n",
       "    .dataframe tbody tr th:only-of-type {\n",
       "        vertical-align: middle;\n",
       "    }\n",
       "\n",
       "    .dataframe tbody tr th {\n",
       "        vertical-align: top;\n",
       "    }\n",
       "\n",
       "    .dataframe thead th {\n",
       "        text-align: right;\n",
       "    }\n",
       "</style>\n",
       "<table border=\"1\" class=\"dataframe\">\n",
       "  <thead>\n",
       "    <tr style=\"text-align: right;\">\n",
       "      <th></th>\n",
       "      <th>City</th>\n",
       "      <th>Cloudiness</th>\n",
       "      <th>Country</th>\n",
       "      <th>Date</th>\n",
       "      <th>Humidity</th>\n",
       "      <th>Lat</th>\n",
       "      <th>Lng</th>\n",
       "      <th>Max Temp</th>\n",
       "      <th>Wind Speed</th>\n",
       "    </tr>\n",
       "  </thead>\n",
       "  <tbody>\n",
       "    <tr>\n",
       "      <th>0</th>\n",
       "      <td>Rikitea</td>\n",
       "      <td>36</td>\n",
       "      <td>PF</td>\n",
       "      <td>1566566585</td>\n",
       "      <td>72</td>\n",
       "      <td>-23.12</td>\n",
       "      <td>-134.97</td>\n",
       "      <td>70.02</td>\n",
       "      <td>13.94</td>\n",
       "    </tr>\n",
       "    <tr>\n",
       "      <th>1</th>\n",
       "      <td>Tasiilaq</td>\n",
       "      <td>40</td>\n",
       "      <td>GL</td>\n",
       "      <td>1566566912</td>\n",
       "      <td>75</td>\n",
       "      <td>65.61</td>\n",
       "      <td>-37.64</td>\n",
       "      <td>42.80</td>\n",
       "      <td>2.24</td>\n",
       "    </tr>\n",
       "    <tr>\n",
       "      <th>2</th>\n",
       "      <td>Mataura</td>\n",
       "      <td>91</td>\n",
       "      <td>NZ</td>\n",
       "      <td>1566566853</td>\n",
       "      <td>81</td>\n",
       "      <td>-46.19</td>\n",
       "      <td>168.86</td>\n",
       "      <td>44.01</td>\n",
       "      <td>4.00</td>\n",
       "    </tr>\n",
       "    <tr>\n",
       "      <th>3</th>\n",
       "      <td>Jalu</td>\n",
       "      <td>0</td>\n",
       "      <td>LY</td>\n",
       "      <td>1566567200</td>\n",
       "      <td>16</td>\n",
       "      <td>29.03</td>\n",
       "      <td>21.55</td>\n",
       "      <td>100.36</td>\n",
       "      <td>12.12</td>\n",
       "    </tr>\n",
       "    <tr>\n",
       "      <th>4</th>\n",
       "      <td>Hobart</td>\n",
       "      <td>20</td>\n",
       "      <td>AU</td>\n",
       "      <td>1566566782</td>\n",
       "      <td>57</td>\n",
       "      <td>-42.88</td>\n",
       "      <td>147.33</td>\n",
       "      <td>51.80</td>\n",
       "      <td>14.99</td>\n",
       "    </tr>\n",
       "  </tbody>\n",
       "</table>\n",
       "</div>"
      ],
      "text/plain": [
       "       City  Cloudiness Country        Date  Humidity    Lat     Lng  \\\n",
       "0   Rikitea          36      PF  1566566585        72 -23.12 -134.97   \n",
       "1  Tasiilaq          40      GL  1566566912        75  65.61  -37.64   \n",
       "2   Mataura          91      NZ  1566566853        81 -46.19  168.86   \n",
       "3      Jalu           0      LY  1566567200        16  29.03   21.55   \n",
       "4    Hobart          20      AU  1566566782        57 -42.88  147.33   \n",
       "\n",
       "   Max Temp  Wind Speed  \n",
       "0     70.02       13.94  \n",
       "1     42.80        2.24  \n",
       "2     44.01        4.00  \n",
       "3    100.36       12.12  \n",
       "4     51.80       14.99  "
      ]
     },
     "execution_count": 9,
     "metadata": {},
     "output_type": "execute_result"
    }
   ],
   "source": [
    "df = pd.read_csv('output_data/cities.csv')\n",
    "df.head()"
   ]
  },
  {
   "cell_type": "code",
   "execution_count": 10,
   "metadata": {},
   "outputs": [],
   "source": [
    "html_data = df.to_html"
   ]
  },
  {
   "cell_type": "code",
   "execution_count": 11,
   "metadata": {},
   "outputs": [],
   "source": [
    "df.to_html('output_data/table_data.html')"
   ]
  },
  {
   "cell_type": "code",
   "execution_count": null,
   "metadata": {},
   "outputs": [],
   "source": []
  }
 ],
 "metadata": {
  "kernelspec": {
   "display_name": "Python 3",
   "language": "python",
   "name": "python3"
  },
  "language_info": {
   "codemirror_mode": {
    "name": "ipython",
    "version": 3
   },
   "file_extension": ".py",
   "mimetype": "text/x-python",
   "name": "python",
   "nbconvert_exporter": "python",
   "pygments_lexer": "ipython3",
   "version": "3.6.5"
  }
 },
 "nbformat": 4,
 "nbformat_minor": 2
}
